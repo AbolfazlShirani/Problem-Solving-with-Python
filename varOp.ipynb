{
 "cells": [
  {
   "cell_type": "code",
   "execution_count": 1,
   "id": "0bad7519-1c00-47e5-b68d-830a289656fb",
   "metadata": {},
   "outputs": [],
   "source": [
    "a=5\n",
    "b=6\n",
    "c=10\n",
    "d=4\n",
    "e=55\n",
    "f=110\n",
    "g=20\n",
    "h=10.5\n",
    "i=49\n",
    "j=8"
   ]
  },
  {
   "cell_type": "code",
   "execution_count": 2,
   "id": "e2c29b67-9a94-46eb-9bc3-215603511060",
   "metadata": {},
   "outputs": [
    {
     "data": {
      "text/plain": [
       "11"
      ]
     },
     "execution_count": 2,
     "metadata": {},
     "output_type": "execute_result"
    }
   ],
   "source": [
    "a+b"
   ]
  },
  {
   "cell_type": "code",
   "execution_count": 3,
   "id": "32a404a1-bc3f-47c4-b90d-6720054b2424",
   "metadata": {},
   "outputs": [
    {
     "data": {
      "text/plain": [
       "40"
      ]
     },
     "execution_count": 3,
     "metadata": {},
     "output_type": "execute_result"
    }
   ],
   "source": [
    "c*d"
   ]
  },
  {
   "cell_type": "code",
   "execution_count": 4,
   "id": "9999cbed-bc08-4cb9-81e3-429e52e97ce1",
   "metadata": {},
   "outputs": [
    {
     "data": {
      "text/plain": [
       "275356824355849041710348194579244304084336880066049967933856703130242376995962761693451667268547012433321581803030439293913092221957327475205632395988987470847320082611986435949802398681640625"
      ]
     },
     "execution_count": 4,
     "metadata": {},
     "output_type": "execute_result"
    }
   ],
   "source": [
    "e**f"
   ]
  },
  {
   "cell_type": "code",
   "execution_count": 5,
   "id": "e06b8bdf-622a-481d-bd63-407f6411e267",
   "metadata": {},
   "outputs": [
    {
     "data": {
      "text/plain": [
       "1.9047619047619047"
      ]
     },
     "execution_count": 5,
     "metadata": {},
     "output_type": "execute_result"
    }
   ],
   "source": [
    "g/h"
   ]
  },
  {
   "cell_type": "code",
   "execution_count": 7,
   "id": "aec03d22-777a-4fcf-8e32-05c7ec6a04b0",
   "metadata": {},
   "outputs": [
    {
     "data": {
      "text/plain": [
       "1.0"
      ]
     },
     "execution_count": 7,
     "metadata": {},
     "output_type": "execute_result"
    }
   ],
   "source": [
    "g//h"
   ]
  },
  {
   "cell_type": "code",
   "execution_count": 8,
   "id": "92cdcfd9-511a-4075-9b98-571bc90993a4",
   "metadata": {},
   "outputs": [
    {
     "data": {
      "text/plain": [
       "1"
      ]
     },
     "execution_count": 8,
     "metadata": {},
     "output_type": "execute_result"
    }
   ],
   "source": [
    "i%j"
   ]
  },
  {
   "cell_type": "code",
   "execution_count": 9,
   "id": "fc17fad9-a4f2-444e-986f-3e515c9becd8",
   "metadata": {},
   "outputs": [
    {
     "data": {
      "text/plain": [
       "-3"
      ]
     },
     "execution_count": 9,
     "metadata": {},
     "output_type": "execute_result"
    }
   ],
   "source": [
    "a-j"
   ]
  },
  {
   "cell_type": "code",
   "execution_count": null,
   "id": "97127fc2-e5f3-4992-8a3c-bca767e76f7f",
   "metadata": {},
   "outputs": [],
   "source": []
  }
 ],
 "metadata": {
  "kernelspec": {
   "display_name": "Python 3 (ipykernel)",
   "language": "python",
   "name": "python3"
  },
  "language_info": {
   "codemirror_mode": {
    "name": "ipython",
    "version": 3
   },
   "file_extension": ".py",
   "mimetype": "text/x-python",
   "name": "python",
   "nbconvert_exporter": "python",
   "pygments_lexer": "ipython3",
   "version": "3.13.7"
  }
 },
 "nbformat": 4,
 "nbformat_minor": 5
}
