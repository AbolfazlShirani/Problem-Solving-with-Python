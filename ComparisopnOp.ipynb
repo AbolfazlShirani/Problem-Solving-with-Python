{
 "cells": [
  {
   "cell_type": "code",
   "execution_count": 1,
   "id": "f56679f8-8183-449f-b65f-957d6a42b4b6",
   "metadata": {},
   "outputs": [
    {
     "data": {
      "text/plain": [
       "False"
      ]
     },
     "execution_count": 1,
     "metadata": {},
     "output_type": "execute_result"
    }
   ],
   "source": [
    "10<5"
   ]
  },
  {
   "cell_type": "code",
   "execution_count": 2,
   "id": "82217eaa-1a99-40c9-a4c1-40cd279dd99a",
   "metadata": {},
   "outputs": [
    {
     "data": {
      "text/plain": [
       "True"
      ]
     },
     "execution_count": 2,
     "metadata": {},
     "output_type": "execute_result"
    }
   ],
   "source": [
    "10>5"
   ]
  },
  {
   "cell_type": "code",
   "execution_count": 3,
   "id": "8b883b70-193e-420e-a05b-3bf0b8da2276",
   "metadata": {},
   "outputs": [
    {
     "data": {
      "text/plain": [
       "False"
      ]
     },
     "execution_count": 3,
     "metadata": {},
     "output_type": "execute_result"
    }
   ],
   "source": [
    "6<=5"
   ]
  },
  {
   "cell_type": "code",
   "execution_count": 4,
   "id": "79114ae2-9488-4200-bc5a-3ad2ccc20101",
   "metadata": {},
   "outputs": [
    {
     "data": {
      "text/plain": [
       "True"
      ]
     },
     "execution_count": 4,
     "metadata": {},
     "output_type": "execute_result"
    }
   ],
   "source": [
    "5>=2"
   ]
  },
  {
   "cell_type": "code",
   "execution_count": 8,
   "id": "3ece4459-e2d2-4fc8-af0d-63ef94906f59",
   "metadata": {},
   "outputs": [
    {
     "data": {
      "text/plain": [
       "True"
      ]
     },
     "execution_count": 8,
     "metadata": {},
     "output_type": "execute_result"
    }
   ],
   "source": [
    "15!=5"
   ]
  },
  {
   "cell_type": "code",
   "execution_count": 9,
   "id": "37a08b02-3ecc-49c7-8532-0a226fe3f075",
   "metadata": {},
   "outputs": [
    {
     "data": {
      "text/plain": [
       "False"
      ]
     },
     "execution_count": 9,
     "metadata": {},
     "output_type": "execute_result"
    }
   ],
   "source": [
    "15==1"
   ]
  },
  {
   "cell_type": "code",
   "execution_count": 10,
   "id": "1551e18a-cc5b-439b-99de-c4e446b7a43d",
   "metadata": {},
   "outputs": [
    {
     "data": {
      "text/plain": [
       "True"
      ]
     },
     "execution_count": 10,
     "metadata": {},
     "output_type": "execute_result"
    }
   ],
   "source": [
    "1<2"
   ]
  },
  {
   "cell_type": "code",
   "execution_count": 13,
   "id": "d784e681-3699-4054-9b14-502bcfb5afa5",
   "metadata": {},
   "outputs": [
    {
     "data": {
      "text/plain": [
       "False"
      ]
     },
     "execution_count": 13,
     "metadata": {},
     "output_type": "execute_result"
    }
   ],
   "source": [
    "3>66<=5==33"
   ]
  },
  {
   "cell_type": "code",
   "execution_count": 16,
   "id": "356c1c6d-ace4-41a2-9e2e-4ff3db610b96",
   "metadata": {},
   "outputs": [
    {
     "data": {
      "text/plain": [
       "True"
      ]
     },
     "execution_count": 16,
     "metadata": {},
     "output_type": "execute_result"
    }
   ],
   "source": [
    "7>6<8>6"
   ]
  },
  {
   "cell_type": "code",
   "execution_count": 17,
   "id": "0d54a19a-8eb6-4cf5-87ef-ab5c7233eba7",
   "metadata": {},
   "outputs": [
    {
     "data": {
      "text/plain": [
       "True"
      ]
     },
     "execution_count": 17,
     "metadata": {},
     "output_type": "execute_result"
    }
   ],
   "source": [
    "11<=12>9!=5"
   ]
  },
  {
   "cell_type": "code",
   "execution_count": null,
   "id": "432b0cee-cddd-4fe2-92f9-f8b14783888e",
   "metadata": {},
   "outputs": [],
   "source": []
  }
 ],
 "metadata": {
  "kernelspec": {
   "display_name": "Python 3 (ipykernel)",
   "language": "python",
   "name": "python3"
  },
  "language_info": {
   "codemirror_mode": {
    "name": "ipython",
    "version": 3
   },
   "file_extension": ".py",
   "mimetype": "text/x-python",
   "name": "python",
   "nbconvert_exporter": "python",
   "pygments_lexer": "ipython3",
   "version": "3.13.7"
  }
 },
 "nbformat": 4,
 "nbformat_minor": 5
}
